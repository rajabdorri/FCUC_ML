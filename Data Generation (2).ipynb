{
 "cells": [
  {
   "cell_type": "code",
   "execution_count": 9,
   "id": "37dc194c",
   "metadata": {},
   "outputs": [],
   "source": [
    "import numpy as np\n",
    "import sys\n",
    "import time\n",
    "import pandas as pd"
   ]
  },
  {
   "cell_type": "code",
   "execution_count": 10,
   "id": "92d4fd4b",
   "metadata": {},
   "outputs": [],
   "source": [
    "startT=time.time();\n",
    "f0=50;\n",
    "max_rocof=2.5*1.1;\n",
    "cost=np.array([[0.070203195,\t0.157639984,\t0.001658217],\n",
    "[0.070203195,\t0.157639984,\t0.001658217],\n",
    "[0.070203195,\t0.157639984,\t0.001658217],\n",
    "[0.101700083,\t0.168704813,\t0.001236125],\n",
    "[0.189613203,\t0.157282398,\t0.000747425],\n",
    "[0.189613203,\t0.157282398,\t0.000747425],\n",
    "[0.161812093,\t0.142950917,\t0.000662586],\n",
    "[0.169909152,\t0.176088611,\t0.000429804],\n",
    "[0.169909152,\t0.176088611,\t0.000429804],\n",
    "[0.169909152,\t0.176088611,\t0.000429804],\n",
    "[0.882502764,\t0.168566554,\t0.000124427]]) #quadradic cost function a*p^2+b*p+c for generators [c,b,a]\n",
    "\n",
    "inertia=np.array([1.75,1.75,1.75,1.73,2.16,1.88,2.10,2.10,2.10,2.10,6.50]) #inertia of units in seconds\n",
    "\n",
    "mbase=np.array([5.4,5.4,5.4,6.3,9.4,9.6,15.75,14.5,14.5,14.5,26.82]) #base power in MW\n",
    "\n",
    "pArray=np.array([\n",
    "[0,2.5,3,3.5], #i1\n",
    "[0,2.5,3,3.5], #i2\n",
    "[0,2.5,3,3.5], #i3\n",
    "[0,3,3.5,4], #i4\n",
    "[0,3.5,4,4.5,5,5.5,6,6.5], #i5\n",
    "[0,3.5,4,4.5,5,5.5,6,6.5], #i6\n",
    "[0,7,7.5,8,8.5,9,9.5,10,10.5,11,11.5], #i7\n",
    "[0,7,7.5,8,8.5,9,9.5,10,10.5,11,11.5], #i8\n",
    "[0,7,7.5,8,8.5,9,9.5,10,10.5,11,11.5], #i9\n",
    "[0,7,7.5,8,8.5,9,9.5,10,10.5,11,11.5], #i10\n",
    "#[0,10,10.5,11,11.5,12,12.5,13,13.5,14,14.5,15,15.5,16,16.5,17,17.5,18,18.5,19,19.5,20,20.5,21,21] #i11\n",
    "               ],dtype=object)\n",
    "\n",
    "#i11p=np.arange(5,21.5,0.5)\n",
    "\n"
   ]
  },
  {
   "cell_type": "code",
   "execution_count": 11,
   "id": "a5b1b625",
   "metadata": {},
   "outputs": [
    {
     "name": "stdout",
     "output_type": "stream",
     "text": [
      "2097250\n"
     ]
    }
   ],
   "source": [
    "combos= np.zeros((4*4*4*4*8*8*11*11*11*11,11))\n",
    "delta = np.zeros(11,dtype=bool)\n",
    "costSum=np.zeros(4*4*4*4*8*8*11*11*11*11)\n",
    "thermalMax=36; #maximum total thermal generation in MWs\n",
    "thermalMin=16; #minimum total thermal generation in MWs\n",
    "j=0\n",
    "for i1 in range(4):\n",
    "    for i2 in range(4):\n",
    "        for i3 in range(4):\n",
    "            for i4 in range(4):\n",
    "                for i5 in range(8):\n",
    "                      for i6 in range(8):\n",
    "                        for i7 in range(11):\n",
    "                            for i8 in range(11):\n",
    "                                for i9 in range(11):\n",
    "                                    for i10 in range(11):\n",
    "                    #                     for i11 in range(32):\n",
    "                                            reserve=0;\n",
    "                                            delta[:]=0;\n",
    "                                            combos[j,0]=pArray[0][i1];\n",
    "                                            if(pArray[0][i1]>0):\n",
    "                                                reserve=reserve+pArray[0][-1]-pArray[0][i1]\n",
    "                                                delta[0]=1\n",
    "                                            combos[j,1]=pArray[1][i2];\n",
    "                                            if(pArray[1][i2]>0):\n",
    "                                                reserve=reserve+pArray[1][-1]-pArray[1][i2]\n",
    "                                                delta[1]=1\n",
    "                                            combos[j,2]=pArray[2][i3];\n",
    "                                            if(pArray[2][i3]>0):\n",
    "                                                reserve=reserve+pArray[2][-1]-pArray[2][i3]\n",
    "                                                delta[2]=1\n",
    "                                            combos[j,3]=pArray[3][i4];\n",
    "                                            if(pArray[3][i4]>0):\n",
    "                                                reserve=reserve+pArray[3][-1]-pArray[3][i4]\n",
    "                                                delta[3]=1\n",
    "                                            combos[j,4]=pArray[4][i5];\n",
    "                                            if(pArray[4][i5]>0):\n",
    "                                                reserve=reserve+pArray[4][-1]-pArray[4][i5]\n",
    "                                                delta[4]=1\n",
    "                                            combos[j,5]=pArray[5][i6];\n",
    "                                            if(pArray[5][i6]>0):\n",
    "                                                reserve=reserve+pArray[5][-1]-pArray[5][i6]\n",
    "                                                delta[5]=1\n",
    "                                            combos[j,6]=pArray[6][i7];\n",
    "                                            if(pArray[6][i7]>0):\n",
    "                                                reserve=reserve+pArray[6][-1]-pArray[6][i7]\n",
    "                                                delta[6]=1\n",
    "                                            combos[j,7]=pArray[7][i8];\n",
    "                                            if(pArray[7][i8]>0):\n",
    "                                                reserve=reserve+pArray[7][-1]-pArray[7][i8]\n",
    "                                                delta[7]=1\n",
    "                                            combos[j,8]=pArray[8][i9];\n",
    "                                            if(pArray[8][i9]>0):\n",
    "                                                reserve=reserve+pArray[8][-1]-pArray[8][i9]\n",
    "                                                delta[8]=1\n",
    "                                            combos[j,9]=pArray[9][i10];\n",
    "                                            if(pArray[9][i10]>0):\n",
    "                                                reserve=reserve+pArray[9][-1]-pArray[9][i10]\n",
    "                                                delta[9]=1\n",
    "                                            #combos[j,10]=i11p[i11];\n",
    "                                            if (combos[j].sum()>=thermalMax or combos[j].sum()<=thermalMin):\n",
    "                                                continue\n",
    "                                                 \n",
    "                                            for counter in range(10): \n",
    "                                                 if (reserve < 0.9*pArray[counter][-1]*delta[counter]\n",
    "                                                     or 2*(np.sum(mbase*inertia*delta)-mbase[counter]*inertia[counter]*delta[counter])<f0*combos[j,counter]*delta[counter]/max_rocof):\n",
    "                                                        #print(2*(np.sum(mbase*inertia*delta)-mbase[counter]*inertia[counter]*delta[counter]))\n",
    "                                                        #print(f0*pArray[counter][-1]*delta[counter]/max_rocof)\n",
    "                                                        #print(combos[j,counter])\n",
    "                                                        costSum[j]=0\n",
    "                                                        j=j-1\n",
    "                                                        break\n",
    "                                            if (combos[j,counter]>0):\n",
    "                                                     costSum[j]=costSum[j]+cost[counter,0]+combos[j,counter]*cost[counter,1]+combos[j,counter]*combos[j,counter]*cost[counter,2]\n",
    "                                            j=j+1;\n",
    "print(j)"
   ]
  },
  {
   "cell_type": "code",
   "execution_count": 12,
   "id": "2ed7689a",
   "metadata": {},
   "outputs": [
    {
     "name": "stdout",
     "output_type": "stream",
     "text": [
      "2097250\n",
      "[   149    233    304    270     21     52    102    168    243    323\n",
      "    406     80    228    593   1303   2365   3652   4492   4324   5848\n",
      "   7647  10388  15940  23721  32932  37524  43458  50283  50720  69571\n",
      "  92050 118657 149603 156234 166266 185381 228052 284686 348981]\n"
     ]
    }
   ],
   "source": [
    "posCombos=combos[:j,:]\n",
    "costSum=costSum[:j]\n",
    "posCombos=np.c_[posCombos,np.transpose(posCombos.sum(axis=1)),np.transpose(costSum)]\n",
    "posCombos=posCombos[posCombos[:, 11].argsort()]\n",
    "print(len(posCombos));\n",
    "demandSteps=(thermalMax-thermalMin)*2-1;\n",
    "\n",
    "count=np.zeros(demandSteps,dtype=np.uintc)\n",
    "for i in range(demandSteps):\n",
    "    count[i] = np.count_nonzero(posCombos[:,11] == (thermalMin+0.5+i/2));\n",
    "print(count)\n",
    "\n",
    "np.set_printoptions(threshold=sys.maxsize)\n",
    "\n",
    "cheaperCombos=np.zeros((500*demandSteps,11))\n",
    "cheaperCombosRes=np.zeros((500*demandSteps,11))\n",
    "\n"
   ]
  },
  {
   "cell_type": "code",
   "execution_count": 13,
   "id": "1ba9c579",
   "metadata": {},
   "outputs": [
    {
     "name": "stdout",
     "output_type": "stream",
     "text": [
      "Runtime of the program is 2811.420636177063\n"
     ]
    }
   ],
   "source": [
    "startAt=0;\n",
    "j=0;\n",
    "for i in range(demandSteps):\n",
    "    cheaperCombos[j:j+np.minimum(500,count[i]),:]=posCombos[startAt:startAt+np.minimum(500,count[i]),0:11];\n",
    "    startAt=startAt+count[i];\n",
    "    j=j+np.minimum(500,count[i]);\n",
    "    \n",
    "cheaperCombos=cheaperCombos[:j,:];\n",
    "    \n",
    "for i in range(len(cheaperCombos)):\n",
    "    for k in range(10):\n",
    "        if cheaperCombos[i,k]==0:\n",
    "            cheaperCombosRes[i,k]=0;\n",
    "        else:\n",
    "            cheaperCombosRes[i,k]=pArray[k][-1]-cheaperCombos[i,k];   \n",
    "\n",
    "cheaperCombosRes=cheaperCombosRes[:j,:];\n",
    "endT=time.time();\n",
    "print(f\"Runtime of the program is {endT - startT}\")"
   ]
  },
  {
   "cell_type": "code",
   "execution_count": 14,
   "id": "4ba46f13",
   "metadata": {},
   "outputs": [],
   "source": [
    "with pd.ExcelWriter('All_cheap_combos_laPalma.xlsx') as writer:  \n",
    "    pd.DataFrame(cheaperCombos).to_excel(writer,sheet_name='generation',index=False,header=False)\n",
    "    pd.DataFrame(cheaperCombosRes).to_excel(writer,sheet_name='reserve',index=False,header=False)"
   ]
  },
  {
   "cell_type": "code",
   "execution_count": 15,
   "id": "25aaa5a5",
   "metadata": {},
   "outputs": [
    {
     "name": "stdout",
     "output_type": "stream",
     "text": [
      "2097250\n"
     ]
    }
   ],
   "source": [
    "print(startAt)"
   ]
  },
  {
   "cell_type": "code",
   "execution_count": 18,
   "id": "5dc7091e",
   "metadata": {},
   "outputs": [
    {
     "data": {
      "text/plain": [
       "6.178571428571428"
      ]
     },
     "execution_count": 18,
     "metadata": {},
     "output_type": "execute_result"
    }
   ],
   "source": [
    "(15570*30/21)/3600"
   ]
  },
  {
   "cell_type": "code",
   "execution_count": null,
   "id": "c55c35fa",
   "metadata": {},
   "outputs": [],
   "source": []
  }
 ],
 "metadata": {
  "kernelspec": {
   "display_name": "Python 3 (ipykernel)",
   "language": "python",
   "name": "python3"
  },
  "language_info": {
   "codemirror_mode": {
    "name": "ipython",
    "version": 3
   },
   "file_extension": ".py",
   "mimetype": "text/x-python",
   "name": "python",
   "nbconvert_exporter": "python",
   "pygments_lexer": "ipython3",
   "version": "3.9.7"
  }
 },
 "nbformat": 4,
 "nbformat_minor": 5
}
